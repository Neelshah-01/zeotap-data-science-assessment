{
 "cells": [
  {
   "cell_type": "code",
   "execution_count": 1,
   "id": "ab5ae286-a86e-4f0a-b5e0-b5aa853f2225",
   "metadata": {},
   "outputs": [],
   "source": [
    "import pandas as pd\n",
    "import numpy as np\n",
    "from sklearn.preprocessing import StandardScaler\n",
    "from sklearn.metrics.pairwise import cosine_similarity\n",
    "from sklearn.decomposition import PCA\n",
    "import matplotlib.pyplot as plt"
   ]
  },
  {
   "cell_type": "code",
   "execution_count": 2,
   "id": "f06cbbb7-a495-4fb8-bf1c-afce1ad5c3c6",
   "metadata": {},
   "outputs": [],
   "source": [
    "customers = pd.read_csv(\"Customers.csv\")\n",
    "products = pd.read_csv(\"Products.csv\")\n",
    "transactions = pd.read_csv(\"Transactions.csv\")"
   ]
  },
  {
   "cell_type": "code",
   "execution_count": 3,
   "id": "3a7cbc0c-bf7a-4d2f-9fb1-c4652f3ef4b8",
   "metadata": {},
   "outputs": [],
   "source": [
    "# Merge datasets\n",
    "merged_data = pd.merge(transactions, products, on='ProductID', how='left')\n",
    "merged_data = pd.merge(merged_data, customers, on='CustomerID', how='left')\n"
   ]
  },
  {
   "cell_type": "code",
   "execution_count": 4,
   "id": "2c0e080b-8a2a-4ee0-8530-646a3cff4f50",
   "metadata": {},
   "outputs": [],
   "source": [
    "# Total spending and frequency for each customer\n",
    "customer_behavior = merged_data.groupby('CustomerID').agg(\n",
    "    total_spending=('TotalValue', 'sum'),\n",
    "    purchase_frequency=('TransactionID', 'count'),\n",
    "    unique_products=('ProductID', 'nunique')\n",
    ").reset_index()\n",
    "\n",
    "# Customer demographic features\n",
    "customer_profile = customers[['CustomerID', 'Region', 'SignupDate']]\n",
    "\n",
    "# Merge customer behavior and profile\n",
    "customer_data = pd.merge(customer_behavior, customer_profile, on='CustomerID', how='left')"
   ]
  },
  {
   "cell_type": "code",
   "execution_count": 5,
   "id": "e65832f9-219d-4d29-9cd4-d87a8d041559",
   "metadata": {},
   "outputs": [],
   "source": [
    "# One-hot encode categorical 'Region' feature\n",
    "customer_data = pd.get_dummies(customer_data, columns=['Region'], drop_first=True)\n",
    "\n",
    "# Scale numerical features\n",
    "scaler = StandardScaler()\n",
    "customer_data_scaled = scaler.fit_transform(customer_data[['total_spending', 'purchase_frequency', 'unique_products']])\n",
    "\n",
    "# Combine the scaled data with the encoded data\n",
    "customer_data_scaled = np.hstack([customer_data_scaled, customer_data.drop(['CustomerID', 'SignupDate'], axis=1).values])"
   ]
  },
  {
   "cell_type": "code",
   "execution_count": 6,
   "id": "586b6cd7-2168-40a7-9d81-44f720c3e199",
   "metadata": {},
   "outputs": [],
   "source": [
    "# Compute cosine similarity between all customers\n",
    "cosine_sim = cosine_similarity(customer_data_scaled)"
   ]
  },
  {
   "cell_type": "code",
   "execution_count": 7,
   "id": "35a39639-55fb-47e2-8643-7465057666ef",
   "metadata": {},
   "outputs": [],
   "source": [
    "# Function to get top 3 lookalikes\n",
    "def get_top_lookalikes(customer_id, num_recommendations=3):\n",
    "    customer_idx = customer_data[customer_data['CustomerID'] == customer_id].index[0]\n",
    "    similarity_scores = cosine_sim[customer_idx]\n",
    "    similar_customers = list(enumerate(similarity_scores))\n",
    "    \n",
    "    # Sort customers by similarity score in descending order and exclude the customer itself\n",
    "    similar_customers = sorted(similar_customers, key=lambda x: x[1], reverse=True)[1:num_recommendations+1]\n",
    "    \n",
    "    # Return a list of tuples (CustomerID, Similarity Score)\n",
    "    return [(customer_data.iloc[i[0]]['CustomerID'], i[1]) for i in similar_customers]\n",
    "\n",
    "# Get lookalikes for the first 20 customers\n",
    "lookalikes = {}\n",
    "for customer_id in customers['CustomerID'][:20]:\n",
    "    lookalikes[customer_id] = get_top_lookalikes(customer_id)\n",
    "\n",
    "# Flatten the lookalikes dictionary into a list of lists and create a DataFrame\n",
    "lookalike_data = []\n",
    "for customer_id, similar_customers in lookalikes.items():\n",
    "    for similar_customer in similar_customers:\n",
    "        lookalike_data.append([customer_id, similar_customer[0], similar_customer[1]])\n",
    "\n",
    "# Convert the lookalike data to a DataFrame\n",
    "lookalike_df = pd.DataFrame(lookalike_data, columns=['CustomerID', 'Lookalike CustomerID', 'Similarity Score'])\n",
    "\n",
    "# Save to CSV\n",
    "lookalike_df.to_csv('Neel_Shah_Lookalike.csv', index=False)\n"
   ]
  }
 ],
 "metadata": {
  "kernelspec": {
   "display_name": "Python 3 (ipykernel)",
   "language": "python",
   "name": "python3"
  },
  "language_info": {
   "codemirror_mode": {
    "name": "ipython",
    "version": 3
   },
   "file_extension": ".py",
   "mimetype": "text/x-python",
   "name": "python",
   "nbconvert_exporter": "python",
   "pygments_lexer": "ipython3",
   "version": "3.13.1"
  }
 },
 "nbformat": 4,
 "nbformat_minor": 5
}
